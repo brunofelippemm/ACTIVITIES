{
 "cells": [
  {
   "cell_type": "code",
   "execution_count": 12,
   "metadata": {
    "ExecuteTime": {
     "end_time": "2019-08-24T16:00:33.817790Z",
     "start_time": "2019-08-24T16:00:33.813791Z"
    }
   },
   "outputs": [],
   "source": [
    "import os\n",
    "import pandas as pd\n",
    "from bs4 import BeautifulSoup as bs\n",
    "from splinter import Browser\n",
    "from sqlalchemy import create_engine\n",
    "from IPython.core.interactiveshell import InteractiveShell\n",
    "InteractiveShell.ast_node_interactivity = \"all\""
   ]
  },
  {
   "cell_type": "code",
   "execution_count": 13,
   "metadata": {
    "ExecuteTime": {
     "end_time": "2019-08-24T16:00:41.800673Z",
     "start_time": "2019-08-24T16:00:34.520019Z"
    }
   },
   "outputs": [],
   "source": [
    "executable_path = {'executable_path': 'chromedriver.exe'}\n",
    "browser = Browser('chrome', **executable_path, headless=False)"
   ]
  },
  {
   "cell_type": "code",
   "execution_count": 14,
   "metadata": {
    "ExecuteTime": {
     "end_time": "2019-08-24T16:00:41.886626Z",
     "start_time": "2019-08-24T16:00:41.827660Z"
    }
   },
   "outputs": [],
   "source": [
    "html = browser.html\n",
    "soup = bs(html, 'html.parser')"
   ]
  },
  {
   "cell_type": "code",
   "execution_count": 15,
   "metadata": {
    "ExecuteTime": {
     "end_time": "2019-08-24T16:00:41.967579Z",
     "start_time": "2019-08-24T16:00:41.909612Z"
    }
   },
   "outputs": [],
   "source": [
    "def scrap_selections(countries, years):\n",
    "    selection_players = []\n",
    "\n",
    "    for country in countries:\n",
    "        for year in years:\n",
    "            current_page = f'https://www.national-football-teams.com/country/{countries[country]}/{year}/{country}.html'\n",
    "            table = pd.read_html(current_page)[0]\n",
    "            table.columns = table.columns.droplevel()\n",
    "            table['National Team'] = country\n",
    "            table['year'] = year\n",
    "            selection_players.append(table)\n",
    "\n",
    "    selection_players_df = pd.concat(selection_players)\n",
    "    selection_players_df = selection_players_df.reset_index().drop(selection_players_df.\n",
    "                                                                   columns[selection_players_df\n",
    "                                                                           .columns.str.contains('unnamed', case=False)],\n",
    "                                                                    axis=1).drop(['index'], axis=1)\n",
    "    selection_players_df.columns = ['name', 'date_of_birth', 'position', 'current_club', 'f_matches', 'f_substitutions',\n",
    "                                   'f_goals', 'nf_matches', 'nf_substitutions', 'nf_goals', 'national_team', 'year']\n",
    "    selection_players_df.index.name = 'id'\n",
    "    return selection_players_df"
   ]
  },
  {
   "cell_type": "code",
   "execution_count": 50,
   "metadata": {
    "ExecuteTime": {
     "end_time": "2019-08-24T16:36:32.843896Z",
     "start_time": "2019-08-24T16:36:32.839897Z"
    }
   },
   "outputs": [],
   "source": [
    "def csv_to_postgres(path, table_name, delimiter):\n",
    "    df = pd.read_csv(path, sep=delimiter)\n",
    "    connection_string = \"postgres:postgres@localhost:5432/Fifa\"\n",
    "    engine = create_engine(f'postgresql://{connection_string}')\n",
    "    df.to_sql(name=table_name, con=engine, if_exists='append', index=False)"
   ]
  },
  {
   "cell_type": "code",
   "execution_count": 46,
   "metadata": {
    "ExecuteTime": {
     "end_time": "2019-08-24T16:31:04.252788Z",
     "start_time": "2019-08-24T16:30:46.186709Z"
    }
   },
   "outputs": [],
   "source": [
    "countries = {'Brazil':28, 'Mexico': 121, 'France': 67}\n",
    "years = np.arange(2017, 2020)\n",
    "\n",
    "players_df = scrap_selections(countries, years)\n",
    "players_df.to_csv(\"fifa_selection_players.csv\")"
   ]
  },
  {
   "cell_type": "code",
   "execution_count": 58,
   "metadata": {
    "ExecuteTime": {
     "end_time": "2019-08-24T16:57:37.816701Z",
     "start_time": "2019-08-24T16:57:32.711816Z"
    }
   },
   "outputs": [],
   "source": [
    "csv_to_postgres(\"fifa_ranking-2019-06-14.csv\", \"Countries\", ';')"
   ]
  },
  {
   "cell_type": "code",
   "execution_count": 60,
   "metadata": {
    "ExecuteTime": {
     "end_time": "2019-08-24T16:57:56.801089Z",
     "start_time": "2019-08-24T16:57:56.608002Z"
    }
   },
   "outputs": [],
   "source": [
    "csv_to_postgres(\"fifa_selection_players.csv\", \"Players\", ',')"
   ]
  },
  {
   "cell_type": "code",
   "execution_count": null,
   "metadata": {},
   "outputs": [],
   "source": []
  }
 ],
 "metadata": {
  "kernelspec": {
   "display_name": "Python 3",
   "language": "python",
   "name": "python3"
  },
  "language_info": {
   "codemirror_mode": {
    "name": "ipython",
    "version": 3
   },
   "file_extension": ".py",
   "mimetype": "text/x-python",
   "name": "python",
   "nbconvert_exporter": "python",
   "pygments_lexer": "ipython3",
   "version": "3.7.3"
  },
  "notify_time": "5",
  "varInspector": {
   "cols": {
    "lenName": 16,
    "lenType": 16,
    "lenVar": 40
   },
   "kernels_config": {
    "python": {
     "delete_cmd_postfix": "",
     "delete_cmd_prefix": "del ",
     "library": "var_list.py",
     "varRefreshCmd": "print(var_dic_list())"
    },
    "r": {
     "delete_cmd_postfix": ") ",
     "delete_cmd_prefix": "rm(",
     "library": "var_list.r",
     "varRefreshCmd": "cat(var_dic_list()) "
    }
   },
   "types_to_exclude": [
    "module",
    "function",
    "builtin_function_or_method",
    "instance",
    "_Feature"
   ],
   "window_display": false
  }
 },
 "nbformat": 4,
 "nbformat_minor": 2
}
