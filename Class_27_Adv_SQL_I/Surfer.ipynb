{
 "cells": [
  {
   "cell_type": "code",
   "execution_count": 1,
   "metadata": {},
   "outputs": [],
   "source": [
    "# Dependencies\n",
    "from sqlalchemy import create_engine\n",
    "from sqlalchemy.ext.declarative import declarative_base\n",
    "from sqlalchemy import Column, Integer, String, Float\n",
    "Base = declarative_base()\n"
   ]
  },
  {
   "cell_type": "code",
   "execution_count": 2,
   "metadata": {},
   "outputs": [],
   "source": [
    "# Define the Surfer Class\n",
    "class Surfer(Base):\n",
    "    __tablename__ = 'surfer'\n",
    "    id = Column(Integer, primary_key=True)\n",
    "    name = Column(String(255))\n",
    "    hometown = Column(String(255))\n",
    "    rank = Column(Integer)"
   ]
  },
  {
   "cell_type": "code",
   "execution_count": 3,
   "metadata": {},
   "outputs": [],
   "source": [
    "# Create an instance of the Surfer Class\n",
    "surfer_test = Surfer(name = 'Kelly Slater', \n",
    "                     hometown = 'Cocoa Beach',\n",
    "                     rank = 1)"
   ]
  },
  {
   "cell_type": "code",
   "execution_count": 14,
   "metadata": {},
   "outputs": [
    {
     "name": "stdout",
     "output_type": "stream",
     "text": [
      "Kelly Slater\n",
      "Cocoa Beach\n",
      "1\n"
     ]
    }
   ],
   "source": [
    "# Print the object's attributes\n",
    "print(surfer_test.name)\n",
    "print(surfer_test.hometown)\n",
    "print(surfer_test.rank)"
   ]
  },
  {
   "cell_type": "code",
   "execution_count": null,
   "metadata": {},
   "outputs": [],
   "source": [
    "# ----BONUS----\n",
    "# Variable to keep track of changes to while loop\n",
    "new_surfer = input('Insert the name of a surfer to add to the database')\n",
    "while new_surfer == True:\n",
    "    new_surfer_hometown = input(\"What is his or her hometown?\")\n",
    "    new_surfer_rank = input(\"What is his or her rank\")\n",
    "    surfer_"
   ]
  }
 ],
 "metadata": {
  "kernelspec": {
   "display_name": "Python 3",
   "language": "python",
   "name": "python3"
  },
  "language_info": {
   "codemirror_mode": {
    "name": "ipython",
    "version": 3
   },
   "file_extension": ".py",
   "mimetype": "text/x-python",
   "name": "python",
   "nbconvert_exporter": "python",
   "pygments_lexer": "ipython3",
   "version": "3.7.3"
  },
  "varInspector": {
   "cols": {
    "lenName": 16,
    "lenType": 16,
    "lenVar": 40
   },
   "kernels_config": {
    "python": {
     "delete_cmd_postfix": "",
     "delete_cmd_prefix": "del ",
     "library": "var_list.py",
     "varRefreshCmd": "print(var_dic_list())"
    },
    "r": {
     "delete_cmd_postfix": ") ",
     "delete_cmd_prefix": "rm(",
     "library": "var_list.r",
     "varRefreshCmd": "cat(var_dic_list()) "
    }
   },
   "types_to_exclude": [
    "module",
    "function",
    "builtin_function_or_method",
    "instance",
    "_Feature"
   ],
   "window_display": false
  }
 },
 "nbformat": 4,
 "nbformat_minor": 2
}
