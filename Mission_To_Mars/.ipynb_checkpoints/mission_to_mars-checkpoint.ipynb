{
 "cells": [
  {
   "cell_type": "code",
   "execution_count": 1,
   "metadata": {
    "ExecuteTime": {
     "end_time": "2019-08-30T00:07:24.913421Z",
     "start_time": "2019-08-30T00:06:55.188449Z"
    }
   },
   "outputs": [],
   "source": [
    "# Import dependecies\n",
    "from bs4 import BeautifulSoup as bs\n",
    "from splinter import Browser\n",
    "import pandas as pd\n",
    "import requests"
   ]
  },
  {
   "cell_type": "code",
   "execution_count": 2,
   "metadata": {
    "ExecuteTime": {
     "end_time": "2019-08-30T00:07:24.920372Z",
     "start_time": "2019-08-30T00:07:24.915369Z"
    }
   },
   "outputs": [],
   "source": [
    "# Configure chromedriver path\n",
    "exe_path = {'executable_path': 'chromedriver'}"
   ]
  },
  {
   "cell_type": "code",
   "execution_count": 3,
   "metadata": {
    "ExecuteTime": {
     "end_time": "2019-08-30T00:07:41.466844Z",
     "start_time": "2019-08-30T00:07:24.924366Z"
    }
   },
   "outputs": [
    {
     "name": "stdout",
     "output_type": "stream",
     "text": [
      "NASA Invites Students to Name Mars 2020 Rover\n",
      "Through Nov. 1, K-12 students in the U.S. are encouraged to enter an essay contest to name NASA's next Mars rover.\n"
     ]
    }
   ],
   "source": [
    "# Collect the latest News Title and Paragraph Text\n",
    "# Set up Spliter\n",
    "url = f\"https://mars.nasa.gov/news/\"\n",
    "with Browser('chrome', **exe_path, headless=False) as browser:\n",
    "    browser.visit(url)\n",
    "    soup = bs(browser.html, 'html.parser')\n",
    "\n",
    "# Store title and paragraph into variables\n",
    "news_title = soup.find(\"div\", class_=\"content_title\").text\n",
    "news_par = soup.find(\"div\", class_=\"article_teaser_body\").text\n",
    "\n",
    "# Print the title and paragraph\n",
    "print(news_title)\n",
    "print(news_par)"
   ]
  },
  {
   "cell_type": "code",
   "execution_count": 14,
   "metadata": {
    "ExecuteTime": {
     "end_time": "2019-08-30T01:14:35.681521Z",
     "start_time": "2019-08-30T01:14:20.555366Z"
    }
   },
   "outputs": [
    {
     "name": "stdout",
     "output_type": "stream",
     "text": [
      "https://www.jpl.nasa.gov/spaceimages/images/mediumsize/PIA16763_ip.jpg\n"
     ]
    }
   ],
   "source": [
    "# Specify path to JPL Mars Space Images\n",
    "jpl_url = f\"https://www.jpl.nasa.gov\"\n",
    "mars_images_paths = \"/spaceimages/?search=&category=Mars\"\n",
    "\n",
    "# Set up Splinter\n",
    "with Browser('chrome', **exe_path, headless=False) as browser:\n",
    "    browser.visit(jpl_url + mars_images_paths)\n",
    "    soup = bs(browser.html, 'html.parser')\n",
    "\n",
    "# Find the element which hold the featured image path and select the proper attribute for the link\n",
    "feat_img_path = soup.find(\"a\", class_=\"button fancybox\")['data-fancybox-href']\n",
    "feat_img_fullpath = jpl_url + feat_img_path\n",
    "\n",
    "# Print featured image url\n",
    "print(feat_img_fullpath)"
   ]
  },
  {
   "cell_type": "code",
   "execution_count": 5,
   "metadata": {
    "ExecuteTime": {
     "end_time": "2019-08-30T00:08:10.551695Z",
     "start_time": "2019-08-30T00:07:56.102305Z"
    },
    "code_folding": []
   },
   "outputs": [
    {
     "name": "stdout",
     "output_type": "stream",
     "text": [
      "We won’t be hearing from @MarsCuriosity or @NASAInSight for the next 2 weeks during Mars solar conjunction. Read more about why Mars missions go silent every 2 years: https://www.wral.com/mars-spacecraft-go-quiet-during-solar-conjunction/18595551/ …pic.twitter.com/fWruE2v151\n"
     ]
    }
   ],
   "source": [
    "# Specify path to Mars Weather Twitter account\n",
    "mw_twitter_url = f\"https://twitter.com/marswxreport?lang=en\"\n",
    "\n",
    "# Set up Splinter\n",
    "with Browser('chrome', **exe_path, headless=False) as browser:\n",
    "    browser.visit(mw_twitter_url)\n",
    "    soup = bs(browser.html, 'html.parser')\n",
    "    \n",
    "# Find latest tweet and unwrap any possible elements in the text\n",
    "last_tweet = soup.find('p', class_=\"TweetTextSize TweetTextSize--normal js-tweet-text tweet-text\").text\n",
    "print(last_tweet)"
   ]
  },
  {
   "cell_type": "code",
   "execution_count": 6,
   "metadata": {
    "ExecuteTime": {
     "end_time": "2019-08-30T00:08:10.574697Z",
     "start_time": "2019-08-30T00:08:10.555708Z"
    }
   },
   "outputs": [
    {
     "name": "stdout",
     "output_type": "stream",
     "text": [
      "InSight sol 263 (2019-08-23) low -100.9ºC (-149.6ºF) high -27.2ºC (-17.0ºF)\n",
      "winds from the SW at 4.1 m/s (9.2 mph) gusting to 18.3 m/s (40.9 mph)\n",
      "pressure at 7.60 hPa\n"
     ]
    }
   ],
   "source": [
    "# Find latest weather informative tweet\n",
    "import re\n",
    "mars_weather = soup.find('p', \n",
    "                         class_ ='TweetTextSize TweetTextSize--normal js-tweet-text tweet-text', \n",
    "                         string=re.compile(\"InSight\")).text\n",
    "print(mars_weather) "
   ]
  },
  {
   "cell_type": "code",
   "execution_count": 9,
   "metadata": {
    "ExecuteTime": {
     "end_time": "2019-08-30T00:09:50.080266Z",
     "start_time": "2019-08-30T00:09:49.069338Z"
    }
   },
   "outputs": [
    {
     "data": {
      "text/html": [
       "<div>\n",
       "<style scoped>\n",
       "    .dataframe tbody tr th:only-of-type {\n",
       "        vertical-align: middle;\n",
       "    }\n",
       "\n",
       "    .dataframe tbody tr th {\n",
       "        vertical-align: top;\n",
       "    }\n",
       "\n",
       "    .dataframe thead th {\n",
       "        text-align: right;\n",
       "    }\n",
       "</style>\n",
       "<table border=\"1\" class=\"dataframe\">\n",
       "  <thead>\n",
       "    <tr style=\"text-align: right;\">\n",
       "      <th></th>\n",
       "      <th>0</th>\n",
       "      <th>1</th>\n",
       "    </tr>\n",
       "  </thead>\n",
       "  <tbody>\n",
       "    <tr>\n",
       "      <th>0</th>\n",
       "      <td>Equatorial Diameter:</td>\n",
       "      <td>6,792 km</td>\n",
       "    </tr>\n",
       "    <tr>\n",
       "      <th>1</th>\n",
       "      <td>Polar Diameter:</td>\n",
       "      <td>6,752 km</td>\n",
       "    </tr>\n",
       "    <tr>\n",
       "      <th>2</th>\n",
       "      <td>Mass:</td>\n",
       "      <td>6.39 × 10^23 kg (0.11 Earths)</td>\n",
       "    </tr>\n",
       "    <tr>\n",
       "      <th>3</th>\n",
       "      <td>Moons:</td>\n",
       "      <td>2 (Phobos &amp; Deimos)</td>\n",
       "    </tr>\n",
       "    <tr>\n",
       "      <th>4</th>\n",
       "      <td>Orbit Distance:</td>\n",
       "      <td>227,943,824 km (1.38 AU)</td>\n",
       "    </tr>\n",
       "    <tr>\n",
       "      <th>5</th>\n",
       "      <td>Orbit Period:</td>\n",
       "      <td>687 days (1.9 years)</td>\n",
       "    </tr>\n",
       "    <tr>\n",
       "      <th>6</th>\n",
       "      <td>Surface Temperature:</td>\n",
       "      <td>-87 to -5 °C</td>\n",
       "    </tr>\n",
       "    <tr>\n",
       "      <th>7</th>\n",
       "      <td>First Record:</td>\n",
       "      <td>2nd millennium BC</td>\n",
       "    </tr>\n",
       "    <tr>\n",
       "      <th>8</th>\n",
       "      <td>Recorded By:</td>\n",
       "      <td>Egyptian astronomers</td>\n",
       "    </tr>\n",
       "  </tbody>\n",
       "</table>\n",
       "</div>"
      ],
      "text/plain": [
       "                      0                              1\n",
       "0  Equatorial Diameter:                       6,792 km\n",
       "1       Polar Diameter:                       6,752 km\n",
       "2                 Mass:  6.39 × 10^23 kg (0.11 Earths)\n",
       "3                Moons:            2 (Phobos & Deimos)\n",
       "4       Orbit Distance:       227,943,824 km (1.38 AU)\n",
       "5         Orbit Period:           687 days (1.9 years)\n",
       "6  Surface Temperature:                   -87 to -5 °C\n",
       "7         First Record:              2nd millennium BC\n",
       "8          Recorded By:           Egyptian astronomers"
      ]
     },
     "execution_count": 9,
     "metadata": {},
     "output_type": "execute_result"
    }
   ],
   "source": [
    "# Specify path to Mars Facts\n",
    "mars_facts_url = f\"https://space-facts.com/mars/\"\n",
    "\n",
    "# Read HTML table with pandas\n",
    "mars_facts_df =  pd.read_html(mars_facts_url)[1]\n",
    "mars_facts_df"
   ]
  },
  {
   "cell_type": "code",
   "execution_count": 13,
   "metadata": {
    "ExecuteTime": {
     "end_time": "2019-08-30T00:48:29.387597Z",
     "start_time": "2019-08-30T00:48:09.933718Z"
    },
    "scrolled": true
   },
   "outputs": [
    {
     "data": {
      "text/plain": [
       "[{'title': 'Cerberus Hemisphere',\n",
       "  'img_url': 'https://astrogeology.usgs.gov/cache/images/cfa62af2557222a02478f1fcd781d445_cerberus_enhanced.tif_full.jpg'},\n",
       " {'title': 'Schiaparelli Hemisphere',\n",
       "  'img_url': 'https://astrogeology.usgs.gov/cache/images/3cdd1cbf5e0813bba925c9030d13b62e_schiaparelli_enhanced.tif_full.jpg'},\n",
       " {'title': 'Syrtis Major Hemisphere',\n",
       "  'img_url': 'https://astrogeology.usgs.gov/cache/images/ae209b4e408bb6c3e67b6af38168cf28_syrtis_major_enhanced.tif_full.jpg'},\n",
       " {'title': 'Valles Marineris Hemisphere',\n",
       "  'img_url': 'https://astrogeology.usgs.gov/cache/images/7cf2da4bf549ed01c17f206327be4db7_valles_marineris_enhanced.tif_full.jpg'}]"
      ]
     },
     "execution_count": 13,
     "metadata": {},
     "output_type": "execute_result"
    }
   ],
   "source": [
    "# Specify path to USGS Astrogeology\n",
    "usgsAstro_url = f\"https://astrogeology.usgs.gov\"\n",
    "search_url = f\"/search/results?q=hemisphere+enhanced&k1=target&v1=Mars\"\n",
    "full_url = usgsAstro_url + search_url\n",
    "\n",
    "# Create a list to hold the hemisphere images\n",
    "hemi_images = []\n",
    "\n",
    "# Set up Spliter\n",
    "with Browser('chrome', **exe_path, headless=False) as browser:\n",
    "    browser.visit(full_url)\n",
    "    soup = bs(browser.html, 'html.parser')\n",
    "    \n",
    "# Find and store the images\n",
    "    hemi_links = soup.find_all(\"div\", class_=\"description\")\n",
    "    for link in hemi_links:\n",
    "        hemi_url = usgsAstro_url + link.a[\"href\"]\n",
    "        browser.visit(hemi_url)\n",
    "        soup = bs(browser.html, 'html.parser')\n",
    "        image = usgsAstro_url + soup.find(\"img\", class_=\"wide-image\")[\"src\"]\n",
    "        title = soup.find(\"h2\", class_=\"title\").text.replace(\" Enhanced\", \"\")\n",
    "        hemi_images.append( { \"title\" : title, \"img_url\" : image } )\n",
    "\n",
    "hemi_images"
   ]
  }
 ],
 "metadata": {
  "kernelspec": {
   "display_name": "Python 3",
   "language": "python",
   "name": "python3"
  },
  "language_info": {
   "codemirror_mode": {
    "name": "ipython",
    "version": 3
   },
   "file_extension": ".py",
   "mimetype": "text/x-python",
   "name": "python",
   "nbconvert_exporter": "python",
   "pygments_lexer": "ipython3",
   "version": "3.7.3"
  },
  "varInspector": {
   "cols": {
    "lenName": 16,
    "lenType": 16,
    "lenVar": 40
   },
   "kernels_config": {
    "python": {
     "delete_cmd_postfix": "",
     "delete_cmd_prefix": "del ",
     "library": "var_list.py",
     "varRefreshCmd": "print(var_dic_list())"
    },
    "r": {
     "delete_cmd_postfix": ") ",
     "delete_cmd_prefix": "rm(",
     "library": "var_list.r",
     "varRefreshCmd": "cat(var_dic_list()) "
    }
   },
   "types_to_exclude": [
    "module",
    "function",
    "builtin_function_or_method",
    "instance",
    "_Feature"
   ],
   "window_display": false
  }
 },
 "nbformat": 4,
 "nbformat_minor": 2
}
