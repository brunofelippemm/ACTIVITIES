{
 "cells": [
  {
   "cell_type": "code",
   "execution_count": 10,
   "metadata": {},
   "outputs": [
    {
     "data": {
      "text/plain": [
       "[{'page': '1', 'pages': '1', 'per_page': '50', 'total': '4'},\n",
       " [{'id': 'IBD', 'iso2code': 'XF', 'value': 'IBRD'},\n",
       "  {'id': 'IDB', 'iso2code': 'XH', 'value': 'Blend'},\n",
       "  {'id': 'IDX', 'iso2code': 'XI', 'value': 'IDA'},\n",
       "  {'id': 'LNX', 'iso2code': 'XX', 'value': 'Not classified'}]]"
      ]
     },
     "execution_count": 10,
     "metadata": {},
     "output_type": "execute_result"
    }
   ],
   "source": [
    "# Dependencies\n",
    "import requests\n",
    "import pandas as pd\n",
    "\n",
    "url = \"http://api.worldbank.org/v2/\"\n",
    "query = \"lendingtypes\"\n",
    "query_url = url + query + \"?format=json\"\n",
    "\n",
    "lending_types = requests.get(query_url).json()\n",
    "lending_types"
   ]
  },
  {
   "cell_type": "code",
   "execution_count": 12,
   "metadata": {},
   "outputs": [
    {
     "data": {
      "text/plain": [
       "'IDB'"
      ]
     },
     "execution_count": 12,
     "metadata": {},
     "output_type": "execute_result"
    }
   ],
   "source": [
    "# Get the list of lending types the world bank has\n",
    "lending_types = lending_types[1]\n",
    "lending_types[\"id\"]\n",
    "# id_keys = []\n",
    "\n",
    "# for ids in lending_types[\"id\"]:\n",
    "#     id_keys.append(ids)\n",
    "    \n",
    "# id_keys"
   ]
  },
  {
   "cell_type": "code",
   "execution_count": null,
   "metadata": {
    "collapsed": true
   },
   "outputs": [],
   "source": [
    "# Next, determine how many countries fall into each lending type.\n",
    "for \n",
    "# Hint: Look at the first element of the response array."
   ]
  },
  {
   "cell_type": "code",
   "execution_count": null,
   "metadata": {},
   "outputs": [],
   "source": [
    "# Print the number of countries of each lending type"
   ]
  }
 ],
 "metadata": {
  "kernelspec": {
   "display_name": "Python 3",
   "language": "python",
   "name": "python3"
  },
  "language_info": {
   "codemirror_mode": {
    "name": "ipython",
    "version": 3
   },
   "file_extension": ".py",
   "mimetype": "text/x-python",
   "name": "python",
   "nbconvert_exporter": "python",
   "pygments_lexer": "ipython3",
   "version": "3.6.8"
  },
  "varInspector": {
   "cols": {
    "lenName": 16,
    "lenType": 16,
    "lenVar": 40
   },
   "kernels_config": {
    "python": {
     "delete_cmd_postfix": "",
     "delete_cmd_prefix": "del ",
     "library": "var_list.py",
     "varRefreshCmd": "print(var_dic_list())"
    },
    "r": {
     "delete_cmd_postfix": ") ",
     "delete_cmd_prefix": "rm(",
     "library": "var_list.r",
     "varRefreshCmd": "cat(var_dic_list()) "
    }
   },
   "types_to_exclude": [
    "module",
    "function",
    "builtin_function_or_method",
    "instance",
    "_Feature"
   ],
   "window_display": false
  }
 },
 "nbformat": 4,
 "nbformat_minor": 2
}
